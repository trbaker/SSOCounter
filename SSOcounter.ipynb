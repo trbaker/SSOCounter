{
 "cells": [
  {
   "cell_type": "markdown",
   "metadata": {},
   "source": [
    "# SSO Counter v 1.02\n",
    "- Tom Baker, Esri (with assist from David Cordes)\n",
    "- Fall 2018\n",
    "\n",
    "This script reads in AGO org prefixes from a file and checks to see if Enterprise Login in enabled. It writes the results out to a CSV file. The datain.csv file should list each org prefix on a newline with no other information.\n",
    "\n",
    "For large datasets (over 100 orgs), a counter will show progress at every 100 orgs processed.\n"
   ]
  },
  {
   "cell_type": "code",
   "execution_count": null,
   "metadata": {},
   "outputs": [],
   "source": [
    "# USER WARNING MESSAGE\n",
    "print('In testing, this script takes about 15 minutes to run 4500 URLs, during off-peak AGO hours.')\n",
    "print('Every 100 records will output a counter update.')\n",
    "print('  ')\n",
    "      \n",
    "# IMPORTS and VARS DEFINED\n",
    "import requests as r\n",
    "import csv\n",
    "temp=\"\"\n",
    "counter=0\n",
    "\n",
    "with open('data/datain.csv') as f:\n",
    "    reader = csv.reader(f)\n",
    "    for org in reader:\n",
    "        response = r.get(\"https://\" + org[0] + \".maps.arcgis.com/sharing/rest/oauth2/authorize?client_id=arcgisonline&redirect_uri=https://fakeorg.maps.arcgis.com/home/postsignin.html&showSocialLogins=false&hideEnterpriseLogins=false&response_type=token\")\n",
    "        content = response.text\n",
    "        startPositionInContent = content.find(\"idpName\")\n",
    "        if startPositionInContent == -1:\n",
    "            #print(org[0] + \",no\")\n",
    "            temp = temp + org[0] + \",no\\r\\n\"\n",
    "        else:\n",
    "            #print(org[0] + \",yes\")\n",
    "            temp = temp + org[0] + \",yes\\r\\n\"\n",
    "        counter=counter+1\n",
    "        if counter%100==0:\n",
    "            print (counter)\n",
    "       \n",
    "w = open(\"data/dataout.csv\",\"w+\")\n",
    "w.write(temp)\n",
    "w.close()\n",
    "print(\"Complete.\")"
   ]
  },
  {
   "cell_type": "code",
   "execution_count": null,
   "metadata": {},
   "outputs": [],
   "source": []
  }
 ],
 "metadata": {
  "kernelspec": {
   "display_name": "Python 3",
   "language": "python",
   "name": "python3"
  },
  "language_info": {
   "codemirror_mode": {
    "name": "ipython",
    "version": 3
   },
   "file_extension": ".py",
   "mimetype": "text/x-python",
   "name": "python",
   "nbconvert_exporter": "python",
   "pygments_lexer": "ipython3",
   "version": "3.6.4"
  }
 },
 "nbformat": 4,
 "nbformat_minor": 2
}
