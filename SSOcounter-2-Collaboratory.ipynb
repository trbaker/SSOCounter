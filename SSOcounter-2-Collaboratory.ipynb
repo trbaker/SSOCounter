{
  "nbformat": 4,
  "nbformat_minor": 0,
  "metadata": {
    "colab": {
      "name": "SSOcounter.ipynb",
      "version": "0.3.2",
      "provenance": [],
      "collapsed_sections": []
    },
    "language_info": {
      "codemirror_mode": {
        "name": "ipython",
        "version": 3
      },
      "file_extension": ".py",
      "mimetype": "text/x-python",
      "name": "python",
      "nbconvert_exporter": "python",
      "pygments_lexer": "ipython3",
      "version": "3.7.1"
    },
    "kernelspec": {
      "display_name": "Python 3",
      "language": "python",
      "name": "python3"
    }
  },
  "cells": [
    {
      "metadata": {
        "id": "qDg8fHYXT5KY",
        "colab_type": "text"
      },
      "cell_type": "markdown",
      "source": [
        "# SSO Counter v 2.0 for Google Collaboratory\n",
        "- Tom Baker, Esri . Last updated: April 25 2019\n",
        "\n",
        "This script reads in AGO org prefixes from a file and checks to see if Enterprise Login is enabled. It writes the results out to the screen. The datain.csv file should list each org prefix on a newline with no other information.\n",
        "\n",
        "\n"
      ]
    },
    {
      "metadata": {
        "id": "KGt3A73gT5Ka",
        "colab_type": "code",
        "colab": {}
      },
      "cell_type": "code",
      "source": [
        "print('In testing, this script takes about 15 minutes to run 5000 URLs, during off-peak AGO hours.')\n",
        "print('Upload a file named: datain.csv with data only in first col, listing AGO org URL prefixs.')\n",
        "print('  ')\n",
        "  \n",
        "# IMPORTS and VARS DEFINED\n",
        "import requests as r\n",
        "import csv\n",
        "import pandas as pd\n",
        "from google.colab import files\n",
        "uploaded = files.upload()\n",
        "import io\n",
        "\n",
        "df = pd.read_csv(io.BytesIO(uploaded['datain.csv']))\n",
        "# Dataset is now stored in a Pandas Dataframe\n",
        "counter=0\n",
        "temp=\"\"\n",
        "\n",
        "print(' ')\n",
        "print('AGO orgs with SSO enabled will list below. Total count at bottom.')\n",
        "print(' ')\n",
        "for index, row in df.iterrows():\n",
        "  try:\n",
        "    response = r.get(\"https://\" + row[0] + \".maps.arcgis.com/sharing/rest/oauth2/authorize?client_id=arcgisonline&redirect_uri=https://fakeorg.maps.arcgis.com/home/postsignin.html&showSocialLogins=false&hideEnterpriseLogins=false&response_type=token\")\n",
        "    content = response.text\n",
        "    startPositionInContent = content.find(\"idpName\")\n",
        "    if startPositionInContent == -1:\n",
        "      pass\n",
        "    else:\n",
        "      print(row[0] + \".maps.arcgis.com\")\n",
        "      #temp = temp + org[0] + \".maps.arcgis.com\\r\\n\"\n",
        "      counter=counter+1\n",
        "  except:\n",
        "    continue\n",
        "       \n",
        "print(' -----  ')\n",
        "print(\"Scrpt complete. \", counter, \" AGO orgs have SSO enabled.\")"
      ],
      "execution_count": 0,
      "outputs": []
    }
  ]
}